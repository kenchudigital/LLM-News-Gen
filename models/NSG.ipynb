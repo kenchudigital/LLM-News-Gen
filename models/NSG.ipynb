{
 "cells": [
  {
   "cell_type": "markdown",
   "metadata": {},
   "source": [
    "# News Summary Generator (NSG)"
   ]
  },
  {
   "cell_type": "markdown",
   "metadata": {},
   "source": [
    "### Dataset"
   ]
  },
  {
   "cell_type": "code",
   "execution_count": 5,
   "metadata": {},
   "outputs": [],
   "source": [
    "!pip install datasets --quiet"
   ]
  },
  {
   "cell_type": "code",
   "execution_count": 6,
   "metadata": {},
   "outputs": [],
   "source": [
    "!pip install --upgrade ipywidgets --quiet"
   ]
  },
  {
   "cell_type": "code",
   "execution_count": 7,
   "metadata": {},
   "outputs": [],
   "source": [
    "from datasets import load_dataset\n",
    "dataset = load_dataset(\"cnn_dailymail\", \"3.0.0\")  # Version 3.0.0 includes highlights (summaries)\n"
   ]
  },
  {
   "cell_type": "code",
   "execution_count": 4,
   "metadata": {},
   "outputs": [
    {
     "data": {
      "text/plain": [
       "{'train': (287113, 3), 'validation': (13368, 3), 'test': (11490, 3)}"
      ]
     },
     "execution_count": 4,
     "metadata": {},
     "output_type": "execute_result"
    }
   ],
   "source": [
    "dataset.shape"
   ]
  },
  {
   "cell_type": "code",
   "execution_count": 11,
   "metadata": {},
   "outputs": [
    {
     "data": {
      "text/plain": [
       "\"Harry Potter star Daniel Radcliffe gets £20M fortune as he turns 18 Monday .\\nYoung actor says he has no plans to fritter his cash away .\\nRadcliffe's earnings from first five Potter films have been held in trust fund .\""
      ]
     },
     "execution_count": 11,
     "metadata": {},
     "output_type": "execute_result"
    }
   ],
   "source": [
    "dataset[\"train\"][0]['highlights']"
   ]
  },
  {
   "cell_type": "markdown",
   "metadata": {},
   "source": [
    "### Data from scraping (Please see scraper folder)"
   ]
  },
  {
   "cell_type": "code",
   "execution_count": 17,
   "metadata": {},
   "outputs": [],
   "source": [
    "import json"
   ]
  },
  {
   "cell_type": "code",
   "execution_count": 18,
   "metadata": {},
   "outputs": [],
   "source": [
    "filename = \"/Users/chutszkan/Desktop/Files/FYP/LLM-News-Gen/scaprer/demo_data.json\"\n",
    "with open(filename, \"r\", encoding=\"utf-8\") as f:\n",
    "    data = json.load(f)"
   ]
  },
  {
   "cell_type": "code",
   "execution_count": 19,
   "metadata": {},
   "outputs": [
    {
     "data": {
      "text/plain": [
       "[{'date': '2025/02/06',\n",
       "  'title': 'Elon Musk promises to Make Tesla Great Again. Investors are buying it – for now',\n",
       "  'text': 'These should be tough days for Tesla. Sales are down. It’s making less money on every car it does manage to sell. Competitors are eating into its market share, especially internationally. The end of various federal EV policies could cost the company billions. And then there’s the CEO. Elon Musk made the company what it is, turning it from a humble startup into a financial juggernaut. But now there’s near-constant controversy swirling around him as he upends the US government, inserts himself into international politics, plays video games and posts on his social media site, X, drawing his attention away from Tesla in what he himself describes as a “pivotal year” for the company. But you wouldn’t know that by the value of Tesla shares (TSLA), which still dwarfs any other automaker’s market value. Musk took up most of a recent investor call promising imminent, major advances on self-driving cars, robotaxis and humanoid robots and promising that next year would be “epic,” rather than addressing the company’s fundamentals. Investors sent the stock up 4% in the following days anyway, even though Musk himself has admitted that he has a track record of not delivering on promises. “There is a path where Tesla is worth more than the next top five companies combined,” he predicted. “It’s, like, a difficult path, but it is an achievable path.” Some analysts questioned the gains in Tesla shares. “The move higher in Tesla shares bore no relation whatsoever to the company’s financial performance in the quarter just completed or to its outlook for growth in the coming year,” wrote JPMorgan auto analyst Ryan Brinkman in a note to clients. “Tesla shares continue to strike us as having become completely divorced from the fundamentals.” But some investors remain Tesla bulls. “The bulls are laser focused on the AI and autotonomous vehicles story,” said Wedbush Securities analyst Dan Ives, who counts himself as one of those bulls, with a $550 12-month price target that would be 45% above Wednesday’s closing price. Ives said beyond the promise of autonomous vehicles, Tesla’s plans to sell humanoid robots to the public as soon as 2026 would be “a game changer.” What will make Tesla so valuable, in Musk’s view, is that owners of its autonomous vehicles will soon be able to rent their cars for rides – a sort of robot-driven Uber – thereby making money when the cars would otherwise be parked. Musk argues that will change the basic economics of car ownership. And Musk predicted even greater sales for the company’s planned “Optimus” humanoid robots, which he said could bring in more than $10 trillion a year. “It’s really bananas,” he said. But Musk has had a history of ambitious promises and badly missed targets. In 2016 he said the company’s so-called Full Self Driving feature, or FSD, would allow owners to summon their cars to come to them, without anyone on board, from all the way across the country by the end of 2017. And with each successive year, he kept saying true autonomous driving, with no human driver intervention, was just a year or so away. In 2019 he predicted Tesla’s robotaxi service would be available by 2020. The reality is that Tesla’s FSD is under investigation by the National Transportation Safety Board for a series of accidents, and it still requires a person to sit behind the steering wheel ready to take control of the cars. Yet in October 2024, when unveiling a prototype of his driverless Cybercab, which doesn’t even have an accelerator pedal, brake pedal or steering wheel, he promised “unsupervised (driving) possibly by the end of this year.” He added: “I tend to be a little optimistic with time frames.” Unsupervised driving still hasn’t been launched. And in last week’s investors call, Musk revealed that existing Teslas will need a “painful and difficult” hardware update to ever be able to be truly self driving. Then there are the promised regulatory changes. The Trump administration has also said it plans to end a $7,500 tax credit for electric vehicles, including Tesla, this year. While that could hurt legacy automakers’ EV sales the most, that would still make Teslas more expensive relative to gasoline-powered cars – just as growth in US demand for EVs is slowing. In addition, Tesla gets billions from the sale of regulatory credits to automakers that still sell primarily gasoline-powered cars. The Trump administration is vowing to roll back tougher emissions rules that give rise to those regulatory credits in the first place. Musk has always been distracted by his other businesses, like SpaceX, The Boring Company, Neuralink, and his social media platform, X, and is now even more distracted by his role reshaping the federal government. During past Tesla challenges, like ramping up new vehicle production, Musk was literally living and sleeping at the plants and working around the clock. That won’t be the case at Tesla this time. Even with the EV tax credit still in place, Tesla just reported its first drop in annual sales in 2024 as it faces increased competition from other automaker’s increased EV offerings. It is close to losing its title of the world’s largest maker of EVs to Chinese automaker BYD. And Tesla sales could be hurt by political blowback. For example, the number of vehicles Tesla sold in Germany in January fell 59% compared to a year ago, according to the German Federal Motor Transport Authority. Just as Musk has been a key supporter of President Donald Trump, he has become a high profile supporter of the far-right Alternative for Germany (AfD) party. Shares of Tesla fell 4% in trading Thursday after the German sales drop was disclosed. But shares are still up 50% since the November 5 US election, as investors bet Tesla will benefit from Musk’s new role as Trump’s so-called “first buddy.” '},\n",
       " {'date': '2025/02/07',\n",
       "  'title': 'Astronomers briefly thought Elon Musk’s car was an asteroid. Here’s why that points to a broader problem',\n",
       "  'text': 'Seven years after SpaceX launched Elon Musk’s cherry red sports car into orbit around our sun, astronomers unwittingly began paying attention to its movements once again. Observers spotted and correctly identified the vehicle as it started its extraterrestrial excursion in February 2018 — after it had blasted off into space during the Falcon Heavy rocket’s splashy maiden launch. But more recently, the car spawned a high-profile case of mistaken identity as space observers mistook it for an asteroid. Several observations of the vehicle, gathered by sweeping surveys of the night sky, were inadvertently stashed away in a database meant for miscellaneous and unknown objects, according to the International Astronomical Union’s Minor Planet Center. An amateur astronomer noticed a string of data points in January that appeared to fit together, describing the orbit of a relatively small object that was swooping between the orbital paths of Earth and Mars. The citizen scientist assumed the mystery object was an undocumented asteroid and promptly sent his findings to the MPC, which operates at the Harvard Smithsonian Center for Astrophysics in Cambridge, Massachusetts, as a clearinghouse that seeks to catalog all known asteroids, comets and other small celestial bodies. An astronomer there verified the finding. And thus, the Minor Planet Center logged a new object, asteroid “2018 CN41.” Within 24 hours, however, the center retracted the designation. The person who originally flagged the object realized their own error, MPC astronomer Peter Veres told CNN, noticing that they had, in fact, found several uncorrelated observations of Musk’s car. And the center’s systems hadn’t caught the error. “(The amateur astronomer) was correct. (The data points) really did belong together,” said Veres, who created the database entry for 2018 CN41. “But again, we just receive the numbers — the positions, and even the astronomers (using) telescopes, they just see a dot that is moving. “So from that perspective, if you don’t know up front it’s a Tesla Roadster, there is no way to tell,” Veres added. It was a remarkable case of mistaken identity. But it was far from the first, as a host of similar cases have troubled astronomers. The mix-ups highlight difficulties with tracking objects in deep space — a problem exacerbated by the growing number of human-made objects getting jettisoned into the ether. Objects traversing our solar system have been misidentified several times in recent years, NASA’s Paul Chodas recalled to CNN. Chodas is director of the Center for Near Earth Object Studies at NASA’s Jet Propulsion Laboratory in Pasadena, California. Space experts had mistaken a rocket body on a collision course with the moon for a SpaceX launch vehicle before it was confirmed in 2022 to be a rocket booster from one of China’s past lunar missions. A piece of the Apollo 12 mission’s Saturn V rocket, which carried three astronauts on the second crewed moon landing in 1969, baffled scientists in the early 2000s when it came back into Earth’s orbit. Astronomers had to closely inspect the discarded hardware’s bizarre trajectory to make an accurate identification. The University of Hawaii’s Pan-STARRS1 telescope spotted another rocket part in 2020 that helped launch NASA’s doomed Surveyor 2 lunar probe in 1966 during the height of the 20th century space race. The detection confounded researchers until the US government ordered a “high-level inter-agency” effort to figure out what the object was, Chodas said. Interest, and sometimes urgency, in understanding and tracking deep-space objects stems from a desire to fundamentally understand the workings of the cosmos as well as helping policymakers and scientists understand threats — whether those threats are asteroids or foreign adversaries. Musk’s sports car managed to sneak back up on the professionals charged with tracking objects in our solar system for several reasons. One key factor: Experts haven’t been all that interested in keeping tabs on the vehicle. The car is not on a voyage of scientific pursuits. It was sent to space as a piece of deadweight on the inaugural test flight of SpaceX’s Falcon Heavy rocket, and the vehicle is now destined to spend eternity soaring aimlessly through our cosmic neighborhood. The car has an extremely small chance of ever impacting Earth. So as far as astronomers are concerned, it’s just a hefty piece of space junk. Still, mistaking a spacecraft or human-made object for an asteroid is troublesome for the Minor Planet Center, which is tasked only with identifying naturally occurring objects. “We don’t want to receive (data about) any artificial objects at all,” Veres said. “It’s basically wasted time for us,” he added, referring to the MPC. The center is working with NASA’s Jet Propulsion Laboratory to better integrate data from the agency’s Horizons System database, which keeps close tabs on space rocks’ trajectories and flags potentially dangerous asteroids. Veres said he wrote code that aims to better scan for human-made objects that may slip through the Minor Planet Center’s filters by cross-checking with the NASA Horizons database. The fix was implemented this week, Chodas said. If that adjustment had been made earlier, he added, the patch almost certainly would have caught the error. Still, Veres added, updating code is not a catchall solution. “It’s still not bulletproof,” he said, “and the issue is the number of new launches of spacecrafts.” Today, the world of spaceflight is driven as much by the commercial industry as it is by government agencies such as NASA, he noted. And private companies are not always transparent about exactly where the objects they send to space are going. It’s a problem exacerbated by the fact that companies are launching far more frequently than government space programs ever have. SpaceX, for example, launched nearly 140 rockets   in 2024 alone — more than NASA launched during the entire 30-year Space Shuttle program. The problem is not just satellites and spacecraft, Veres noted, but the rocket parts that are occasionally flung out into the abyss after they finish a mission. While both JPL and MPC focus squarely on cataloging and tracking natural asteroids, comets and other natural bodies — the day will come when astronomers must begin closely watching human-made objects in deep space as well, Veres said. Right now, Chodas estimates there are about 100 human-made objects in orbit around the sun, and “most of (those objects) are lost because they’re not tracked much,” he said. “The bottom line is this: There’s not a reliable database of orbits of these objects around the sun,” Chodas added. That lack of data could be a problem, as the increased traffic could muddy astronomers’ view of space and complicate the work of tracking asteroids that could strike Earth. “I think this topic will become more urgent in upcoming years,” Veres added. One case in point: AstroForge is a bold startup based in Huntington Beach, California, that aims to one day mine rare metals in deep space. The company plans to launch a small spacecraft, called Odin, in late February to fly by an asteroid and snap images to investigate its surface. The mission marks one of the first times a private company has sent a spacecraft into deep space, or beyond the moon. At first, the company declined to publicly say which asteroid it would target, leaving open the possibility that observatories could unwittingly spot the spacecraft. AstroForge relented after pushback from the astronomy community, acknowledging in January that it aimed to send the vehicle to an asteroid called 2022 OB5 — a relatively small space rock that will pass less than 500,000 miles (800,000 kilometers) from Earth next year. But the company’s CEO, Matthew Gialich, told CNN that things could change. “One of the best things we have as a company is we can change targets at any time … so it’s not a huge deal to me to say this one,” he said. “Now, when we find this mythical asteroid that’s purely platinum and is worth $1 trillion in actual material — am I going to tell the world which one it is?” Gialich said, “Probably not.” The president of the American Astronomical Society, Dara Norman, published a letter in September calling for better transparency among space operators. The document was a call to action for the global space community to come together to increase mutual understanding, highlighting several major concerns. The issues include how government-funded surveys of the night sky can be restricted because of national security concerns, the reality that commercial space companies aren’t always transparent, and the general lack of regulation. In an interview with CNN on Friday, Norman said she believes the AAS put out that call as policy drivers the world over are just beginning to consider these issues. “What we’d like to do is work in cooperation with those commercial entities to be able to make sure that science isn’t impacted in some of the most egregious ways,” Norman said. “If we’re confused about whether something is an unknown asteroid or a Tesla Roadster, then it starts to cost us money to do things like tracking it or figuring it out.” That’s why better coordination and transparency are crucial, Norman said, so that scientists can efficiently do their jobs — tracking potentially hazardous asteroids and attempting to gain a fuller picture of the objects that populate our solar system. “As we start to have more players on the global scene,” Norman added, “it’s going to become even more important that we all are transparent with each other.” '},\n",
       " {'date': '2025/02/06',\n",
       "  'title': 'Elon Musk promises to Make Tesla Great Again. Investors are buying it – for now',\n",
       "  'text': 'These should be tough days for Tesla. Sales are down. It’s making less money on every car it does manage to sell. Competitors are eating into its market share, especially internationally. The end of various federal EV policies could cost the company billions. And then there’s the CEO. Elon Musk made the company what it is, turning it from a humble startup into a financial juggernaut. But now there’s near-constant controversy swirling around him as he upends the US government, inserts himself into international politics, plays video games and posts on his social media site, X, drawing his attention away from Tesla in what he himself describes as a “pivotal year” for the company. But you wouldn’t know that by the value of Tesla shares (TSLA), which still dwarfs any other automaker’s market value. Musk took up most of a recent investor call promising imminent, major advances on self-driving cars, robotaxis and humanoid robots and promising that next year would be “epic,” rather than addressing the company’s fundamentals. Investors sent the stock up 4% in the following days anyway, even though Musk himself has admitted that he has a track record of not delivering on promises. “There is a path where Tesla is worth more than the next top five companies combined,” he predicted. “It’s, like, a difficult path, but it is an achievable path.” Some analysts questioned the gains in Tesla shares. “The move higher in Tesla shares bore no relation whatsoever to the company’s financial performance in the quarter just completed or to its outlook for growth in the coming year,” wrote JPMorgan auto analyst Ryan Brinkman in a note to clients. “Tesla shares continue to strike us as having become completely divorced from the fundamentals.” But some investors remain Tesla bulls. “The bulls are laser focused on the AI and autotonomous vehicles story,” said Wedbush Securities analyst Dan Ives, who counts himself as one of those bulls, with a $550 12-month price target that would be 45% above Wednesday’s closing price. Ives said beyond the promise of autonomous vehicles, Tesla’s plans to sell humanoid robots to the public as soon as 2026 would be “a game changer.” What will make Tesla so valuable, in Musk’s view, is that owners of its autonomous vehicles will soon be able to rent their cars for rides – a sort of robot-driven Uber – thereby making money when the cars would otherwise be parked. Musk argues that will change the basic economics of car ownership. And Musk predicted even greater sales for the company’s planned “Optimus” humanoid robots, which he said could bring in more than $10 trillion a year. “It’s really bananas,” he said. But Musk has had a history of ambitious promises and badly missed targets. In 2016 he said the company’s so-called Full Self Driving feature, or FSD, would allow owners to summon their cars to come to them, without anyone on board, from all the way across the country by the end of 2017. And with each successive year, he kept saying true autonomous driving, with no human driver intervention, was just a year or so away. In 2019 he predicted Tesla’s robotaxi service would be available by 2020. The reality is that Tesla’s FSD is under investigation by the National Transportation Safety Board for a series of accidents, and it still requires a person to sit behind the steering wheel ready to take control of the cars. Yet in October 2024, when unveiling a prototype of his driverless Cybercab, which doesn’t even have an accelerator pedal, brake pedal or steering wheel, he promised “unsupervised (driving) possibly by the end of this year.” He added: “I tend to be a little optimistic with time frames.” Unsupervised driving still hasn’t been launched. And in last week’s investors call, Musk revealed that existing Teslas will need a “painful and difficult” hardware update to ever be able to be truly self driving. Then there are the promised regulatory changes. The Trump administration has also said it plans to end a $7,500 tax credit for electric vehicles, including Tesla, this year. While that could hurt legacy automakers’ EV sales the most, that would still make Teslas more expensive relative to gasoline-powered cars – just as growth in US demand for EVs is slowing. In addition, Tesla gets billions from the sale of regulatory credits to automakers that still sell primarily gasoline-powered cars. The Trump administration is vowing to roll back tougher emissions rules that give rise to those regulatory credits in the first place. Musk has always been distracted by his other businesses, like SpaceX, The Boring Company, Neuralink, and his social media platform, X, and is now even more distracted by his role reshaping the federal government. During past Tesla challenges, like ramping up new vehicle production, Musk was literally living and sleeping at the plants and working around the clock. That won’t be the case at Tesla this time. Even with the EV tax credit still in place, Tesla just reported its first drop in annual sales in 2024 as it faces increased competition from other automaker’s increased EV offerings. It is close to losing its title of the world’s largest maker of EVs to Chinese automaker BYD. And Tesla sales could be hurt by political blowback. For example, the number of vehicles Tesla sold in Germany in January fell 59% compared to a year ago, according to the German Federal Motor Transport Authority. Just as Musk has been a key supporter of President Donald Trump, he has become a high profile supporter of the far-right Alternative for Germany (AfD) party. Shares of Tesla fell 4% in trading Thursday after the German sales drop was disclosed. But shares are still up 50% since the November 5 US election, as investors bet Tesla will benefit from Musk’s new role as Trump’s so-called “first buddy.” '},\n",
       " {'date': '2025/01/28',\n",
       "  'title': 'Tesla just had its worst sales year ever. But the stock has had a great run',\n",
       "  'text': 'Tesla will likely report thinner profit margins in its quarterly and full-year results Wednesday, a result of its first drop in annual sales in its history last year and a price war in the EV sector from increased competition. But the company’s large swaths of investors seem more focused on CEO Elon Musk’s bromance with President Donald Trump than the troubling noises coming from the car company behind Musk’s fortune. Shares of Tesla are up 57% since the close of trading on Election Day — even with some of the company’s troubles, which include a change in federal emission regulations that could reduce the billions of dollars it gets from the sale of regulatory credits, and increased competition for electric car buyers. Tesla also nearly lost its title as the world’s largest maker of EVs to Chinese automaker BYD at the end of last year, even though BYD has yet to enter the US market. But with the growing sales of EVs in China, Tesla seems likely to lose that title this year, especially if its sales continue to decline. But Musk’s close connection to Trump has investors hoping that the new administration will clear the way for some of his grand plans, including approval of true self-driving cars that don’t have accelerator or brake pedals or steering wheels, which Musk has promised for years. Aside from regulations, however, Tesla’s technology — including “Full Self Driving,” or FSD — has not lived up to Musk’s claims and promises in the past, and has faced investigations into its safety by the National Highway Traffic Safety Administration. The current version of FSD requires a person to be in the driver’s seat, ready to take control of the car should a problem arise. Musk insists, however, that truly driverless “Cybercab” robotaxis from Tesla will be available by 2026 and that its service will make the company by far the most valuable in the world. While even Musk admits “I tend to be a little optimistic with time frames,” he also said that only regulatory hurdles are keeping keep his next generation of self-driving robotaxis from being a reality soon. There are analysts who agree with his view. “I think the Trump tailwind is just starting for Musk and Tesla, and the value of autonomous vehicles and FSD is going to be unleashed,” said Dan Ives, analyst with Wedbush Securities and a Tesla bull. “In our view Tesla continues to be the most undervalued AI play in the market.” But there are still Tesla bears who don’t believe that autonomous driving is as close as Musk promises. They also say that the softening growth in the American electric vehicle market is a major problem for the company. Shares of Tesla have lost 17% of their value since their peak a month ago, despite still being far above the pre-election price. Gordon Johnson, an analyst who is one of the most vocal critics of Tesla, says the controversy surrounding Musk, including his support for Trump and far-right political parties in Germany and the UK, is hurting demand for Tesla cars among liberal American and European buyers who are more inclined to spend the money on an EV. “I think it’s hurting Tesla tremendously. He’s gone full MAGA,” said Johnson. “Many Tesla buyers won’t consider buying a Tesla again.” Trump signed an executive order on the first day of his second term vowing to end tougher emission standards put in place during the Biden administration. Those rules didn’t just govern what came out of a gasoline engine’s tailpipe. They also enabled makers of cars that polluted too much to buy “regulatory credits” from manufacturers of zero-emissions cars, like Tesla, to bring themselves into compliance. Tesla is by far the greatest beneficiary of those purchases: It reported $2 billion in credit sales in the first nine months of 2024. Although some of those credits come from automakers complying with state regulations, rather than federal regulations, Trump has also vowed to block those tougher state emission rules, although a court fight over such a move is virtually certain. Investors will be looking for guidance from Musk and Tesla on Wednesday on the future of those credit sales. Trump has also vowed to eliminate a $7,500 tax credit to EV buyers, a move that could further cripple the EV market in the United States. Automakers would likely further cut the price of EVs to make them more competitive with gasoline-powered cars. It’s once again not clear when such a move would take effect. But Musk is on record saying he approves of removing what he called a “subsidy” for EV sales. Some analysts argue that legacy automakers — which are losing money on all their EVs, largely due to startup development costs — are more likely to pull back on their EV production and offerings altogether, and thus provide less competition for Tesla. The end of the credit “will widen Tesla’s competitive moat by making competing EV models even more uneconomic, as we believe TSLA is the only profitable manufacturer of EVs,” wrote Garrett Nelson, analyst for CFRA Research, in a note to clients the day after the election. “For these reasons, we now view Tesla shares as deserving of higher multiples, but acknowledge challenges in the near term.” But Johnson said the loss of the EV tax credit will make it more difficult for Tesla’s cars to compete with gasoline-powered cars. And the company already has more capacity to build cars than it has buyers. “It’s a huge negative for Tesla,” Johnson said. “They have a demand problem. They can’t sell out their existing capacity. Nine out of 10 car buyers are choosing gasoline-powered cars, not EVs. This makes EVs less competitive.” Tesla could respond to the loss of EV tax credit in 2019 by cutting the price of its vehicles, just like it did when an earlier version of the tax credit was sunset for Tesla buyers in 2019. And with its profits from EV sales, it can cut prices more than its legacy automaker competitors. Even with the tax credit, Tesla has been responding to slowing demand and greater EV competition with a series of price cuts in recent years, squeezing its profit margins. There is also the question of how focused Musk has been on running things at Tesla, as he spends much of his time and attention in Mar-a-Lago or Washington DC. He has always had a broad range of other companies and interests, including rocket and satellite company SpaceX, social media platform X and artificial intelligence company xAI, among others. He now has an office at the White House as he focuses on plans to identify federal programs that can be cut by the new administration, to further take him away from the Tesla offices and factories where he once worked around the clock. This past week, Tesla rolled out an updated version of the Model Y, its best-selling car, but there was no event hosted by Musk to hype the changes, as he has done for all past model roll outs. He has ambitious goals for new vehicles, including a lower-priced model, as well as the Cybercab. But even some Tesla bulls have doubts about Musk’s target dates. “Hitting target dates for Tesla is like the Jets draft picks. They’ve not been very accurate,” Ives, the Wedbush Securities analyst, said. '}]"
      ]
     },
     "execution_count": 19,
     "metadata": {},
     "output_type": "execute_result"
    }
   ],
   "source": [
    "data"
   ]
  },
  {
   "cell_type": "markdown",
   "metadata": {},
   "source": [
    "### Next Step, how can convert this to \"Event Card\" - event pattern and attributes\n",
    "\n",
    "#### Event Extraction\n",
    "\n",
    "- Trigger Identification\n",
    "- Event Argument Identification and Classification"
   ]
  },
  {
   "cell_type": "markdown",
   "metadata": {},
   "source": [
    "Use LLM (May need to do the Fine-Tuning) \n",
    "\n",
    "we use the event patterns as chromosomes, select crossover of chromosomes to evolve the pool of event patterns, and evaluate the chromosomes in the pool by the fitness function"
   ]
  },
  {
   "cell_type": "code",
   "execution_count": 34,
   "metadata": {},
   "outputs": [],
   "source": [
    "!pip install openai python-dotenv --quiet"
   ]
  },
  {
   "cell_type": "code",
   "execution_count": 104,
   "metadata": {},
   "outputs": [],
   "source": [
    "EXAMPLE_CASE = \"\"\"\n",
    "\n",
    "we use LLM to generate news summaries. News paragraphs often have long text segments and contain multiple events, each with an implied event pattern, as below example, to enhance the summary generation capability of LLM through event pattern evolution.\n",
    "\n",
    "***Hint***\n",
    "For Arugment, you need to add the time, if there is no time information, plesase state it as `Unknown`\n",
    "\n",
    "# EXAMPLE #\n",
    "\n",
    "### Article ###\n",
    "A 48-year-old farmer was arrested on the evening of April 1 on the Greek island of Chios for allegedly robbing and injuring two underage refugees that day. According to reports, the farmer who settled on Chios Island also fired shots at the sky in 2017 to deter refugees. The two refugees who were injured this time were only 16 years old and both came from Syria. Fortunately, their injuries were not serious and they have been sent to the local hospital for treatment.\n",
    "\n",
    "### GENERATED EVENT CARD ####\n",
    "\n",
    "[\n",
    "    {\n",
    "        'event_no': 1\n",
    "        'type': criminality\n",
    "        'arguments': [\n",
    "            'the injured': two refugees\n",
    "            'time': April 1\n",
    "            'nationality of the injured': Syria\n",
    "        ]\n",
    "    },\n",
    "    {}\n",
    "    ...\n",
    "    \n",
    "    \n",
    "    \n",
    "]\n",
    "\n",
    "### GENERATED EVENT CARD ####\n",
    "\n",
    "[\n",
    "  {\n",
    "    \"event_no\": 1,\n",
    "    \"type\": \"criminality\",\n",
    "    \"arguments\": {\n",
    "      \"the injured\": \"two refugees\",\n",
    "      \"time\": \"April 1\",\n",
    "      \"nationality of the injured\": \"Syria\"\n",
    "    }\n",
    "  },\n",
    "  {\n",
    "    \"event_no\": 2,\n",
    "    \"type\": \"criminality\",\n",
    "    \"arguments\": {\n",
    "      \"agent\": \"48-year-old framer\",\n",
    "      \"place\": \"Greek island of Chios\",\n",
    "      \"time\": \"April 1\"\n",
    "    }\n",
    "  },\n",
    "  {\n",
    "    \"event_no\": 3,\n",
    "    \"type\": \"criminality\",\n",
    "    \"arguments\": {\n",
    "      \"suspect\": \"48-year-old framer\",\n",
    "      \"crime\": \"shooting\",\n",
    "      \"place\": \"Chios\",\n",
    "      \"result\": \"arrested\"\n",
    "    }\n",
    "  },\n",
    "  ...\n",
    "]\n",
    "\n",
    "\n",
    "\"\"\""
   ]
  },
  {
   "cell_type": "code",
   "execution_count": 105,
   "metadata": {},
   "outputs": [],
   "source": [
    "content = data[0]['text']"
   ]
  },
  {
   "cell_type": "code",
   "execution_count": 106,
   "metadata": {},
   "outputs": [],
   "source": [
    "TEMPERATURE=0.1\n",
    "\n",
    "MESSAGES = [\n",
    "    {\"role\": \"system\", \"content\": f\"You are a helpful assistant to create the EVENT CARD based on the content as below: \\n {EXAMPLE_CASE}\"},\n",
    "    {\"role\": \"user\", \"content\": f\"Generate the event cards based on the content below \\n {content}\"},\n",
    "]"
   ]
  },
  {
   "cell_type": "code",
   "execution_count": 117,
   "metadata": {},
   "outputs": [
    {
     "data": {
      "text/plain": [
       "'These should be tough days for Tesla. Sales are down. It’s making less money on every car it does manage to sell. Competitors are eating into its market share, especially internationally. The end of various federal EV policies could cost the company billions. And then there’s the CEO. Elon Musk made the company what it is, turning it from a humble startup into a financial juggernaut. But now there’s near-constant controversy swirling around him as he upends the US government, inserts himself into international politics, plays video games and posts on his social media site, X, drawing his attention away from Tesla in what he himself describes as a “pivotal year” for the company. But you wouldn’t know that by the value of Tesla shares (TSLA), which still dwarfs any other automaker’s market value. Musk took up most of a recent investor call promising imminent, major advances on self-driving cars, robotaxis and humanoid robots and promising that next year would be “epic,” rather than addressing the company’s fundamentals. Investors sent the stock up 4% in the following days anyway, even though Musk himself has admitted that he has a track record of not delivering on promises. “There is a path where Tesla is worth more than the next top five companies combined,” he predicted. “It’s, like, a difficult path, but it is an achievable path.” Some analysts questioned the gains in Tesla shares. “The move higher in Tesla shares bore no relation whatsoever to the company’s financial performance in the quarter just completed or to its outlook for growth in the coming year,” wrote JPMorgan auto analyst Ryan Brinkman in a note to clients. “Tesla shares continue to strike us as having become completely divorced from the fundamentals.” But some investors remain Tesla bulls. “The bulls are laser focused on the AI and autotonomous vehicles story,” said Wedbush Securities analyst Dan Ives, who counts himself as one of those bulls, with a $550 12-month price target that would be 45% above Wednesday’s closing price. Ives said beyond the promise of autonomous vehicles, Tesla’s plans to sell humanoid robots to the public as soon as 2026 would be “a game changer.” What will make Tesla so valuable, in Musk’s view, is that owners of its autonomous vehicles will soon be able to rent their cars for rides – a sort of robot-driven Uber – thereby making money when the cars would otherwise be parked. Musk argues that will change the basic economics of car ownership. And Musk predicted even greater sales for the company’s planned “Optimus” humanoid robots, which he said could bring in more than $10 trillion a year. “It’s really bananas,” he said. But Musk has had a history of ambitious promises and badly missed targets. In 2016 he said the company’s so-called Full Self Driving feature, or FSD, would allow owners to summon their cars to come to them, without anyone on board, from all the way across the country by the end of 2017. And with each successive year, he kept saying true autonomous driving, with no human driver intervention, was just a year or so away. In 2019 he predicted Tesla’s robotaxi service would be available by 2020. The reality is that Tesla’s FSD is under investigation by the National Transportation Safety Board for a series of accidents, and it still requires a person to sit behind the steering wheel ready to take control of the cars. Yet in October 2024, when unveiling a prototype of his driverless Cybercab, which doesn’t even have an accelerator pedal, brake pedal or steering wheel, he promised “unsupervised (driving) possibly by the end of this year.” He added: “I tend to be a little optimistic with time frames.” Unsupervised driving still hasn’t been launched. And in last week’s investors call, Musk revealed that existing Teslas will need a “painful and difficult” hardware update to ever be able to be truly self driving. Then there are the promised regulatory changes. The Trump administration has also said it plans to end a $7,500 tax credit for electric vehicles, including Tesla, this year. While that could hurt legacy automakers’ EV sales the most, that would still make Teslas more expensive relative to gasoline-powered cars – just as growth in US demand for EVs is slowing. In addition, Tesla gets billions from the sale of regulatory credits to automakers that still sell primarily gasoline-powered cars. The Trump administration is vowing to roll back tougher emissions rules that give rise to those regulatory credits in the first place. Musk has always been distracted by his other businesses, like SpaceX, The Boring Company, Neuralink, and his social media platform, X, and is now even more distracted by his role reshaping the federal government. During past Tesla challenges, like ramping up new vehicle production, Musk was literally living and sleeping at the plants and working around the clock. That won’t be the case at Tesla this time. Even with the EV tax credit still in place, Tesla just reported its first drop in annual sales in 2024 as it faces increased competition from other automaker’s increased EV offerings. It is close to losing its title of the world’s largest maker of EVs to Chinese automaker BYD. And Tesla sales could be hurt by political blowback. For example, the number of vehicles Tesla sold in Germany in January fell 59% compared to a year ago, according to the German Federal Motor Transport Authority. Just as Musk has been a key supporter of President Donald Trump, he has become a high profile supporter of the far-right Alternative for Germany (AfD) party. Shares of Tesla fell 4% in trading Thursday after the German sales drop was disclosed. But shares are still up 50% since the November 5 US election, as investors bet Tesla will benefit from Musk’s new role as Trump’s so-called “first buddy.” '"
      ]
     },
     "execution_count": 117,
     "metadata": {},
     "output_type": "execute_result"
    }
   ],
   "source": [
    "content"
   ]
  },
  {
   "cell_type": "code",
   "execution_count": 107,
   "metadata": {},
   "outputs": [],
   "source": [
    "import openai\n",
    "from dotenv import load_dotenv\n",
    "import os"
   ]
  },
  {
   "cell_type": "code",
   "execution_count": null,
   "metadata": {},
   "outputs": [],
   "source": [
    "load_dotenv(override=True)\n",
    "MODEL_NAME = os.getenv('MODEL_NAME')\n",
    "OPENAI_API_KEY = os.getenv('OPENAI_API_KEY')\n",
    "OPENAI_ORGANIZATION = os.getenv('OPENAI_ORGANIZATION')\n",
    "BASE_URL = os.getenv('OPENAI_BASE_URL')\n",
    "# TWITTER_API_KEY = os.getenv('TWITTER_API_KEY')\n",
    "# TWITTER_API_SECRET = os.getenv('TWITTER_API_SECRET')\n",
    "# TWITTER_ACCESS_TOKEN = os.getenv('TWITTER_ACCESS_TOKEN')\n",
    "# TWITTER_ACCESS_TOKEN_SECRET = os.getenv('TWITTER_ACCESS_TOKEN_SECRET')\n",
    "# TWITTER_BEARER_TOKEN = os.getenv('TWITTER_BEARER_TOKEN')"
   ]
  },
  {
   "cell_type": "code",
   "execution_count": 109,
   "metadata": {},
   "outputs": [
    {
     "name": "stdout",
     "output_type": "stream",
     "text": [
      "[\n",
      "    {\n",
      "        \"event_no\": 1,\n",
      "        \"type\": \"business_challenge\",\n",
      "        \"arguments\": {\n",
      "            \"company\": \"Tesla\",\n",
      "            \"challenge\": \"Sales are down\",\n",
      "            \"time\": \"Unknown\"\n",
      "        }\n",
      "    },\n",
      "    {\n",
      "        \"event_no\": 2,\n",
      "        \"type\": \"business_challenge\",\n",
      "        \"arguments\": {\n",
      "            \"company\": \"Tesla\",\n",
      "            \"challenge\": \"Making less money on each car sold\",\n",
      "            \"time\": \"Unknown\"\n",
      "        }\n",
      "    },\n",
      "    {\n",
      "        \"event_no\": 3,\n",
      "        \"type\": \"market_competition\",\n",
      "        \"arguments\": {\n",
      "            \"company\": \"Tesla\",\n",
      "            \"competitor_effect\": \"Competitors are eating into its market share, especially internationally\",\n",
      "            \"time\": \"Unknown\"\n",
      "        }\n",
      "    },\n",
      "    {\n",
      "        \"event_no\": 4,\n",
      "        \"type\": \"policy_impact\",\n",
      "        \"arguments\": {\n",
      "            \"company\": \"Tesla\",\n",
      "            \"policy\": \"The end of various federal EV policies could cost the company billions\",\n",
      "            \"time\": \"Unknown\"\n",
      "        }\n",
      "    },\n",
      "    {\n",
      "        \"event_no\": 5,\n",
      "        \"type\": \"ceo_controversy\",\n",
      "        \"arguments\": {\n",
      "            \"ceo\": \"Elon Musk\",\n",
      "            \"controversial_actions\": \"Upends the US government, inserts himself into international politics, plays video games and posts on his social media site, X, drawing his attention away from Tesla\",\n",
      "            \"time\": \"Unknown\"\n",
      "        }\n",
      "    },\n",
      "    {\n",
      "        \"event_no\": 6,\n",
      "        \"type\": \"stock_movement\",\n",
      "        \"arguments\": {\n",
      "            \"company\": \"Tesla\",\n",
      "            \"movement\": \"Investors sent the stock up 4% in the following days\",\n",
      "            \"time\": \"Unknown\"\n",
      "        }\n",
      "    },\n",
      "    {\n",
      "        \"event_no\": 7,\n",
      "        \"type\": \"ceo_prediction\",\n",
      "        \"arguments\": {\n",
      "            \"ceo\": \"Elon Musk\",\n",
      "            \"prediction\": \"There is a path where Tesla is worth more than the next top five companies combined\",\n",
      "            \"time\": \"Unknown\"\n",
      "        }\n",
      "    },\n",
      "    {\n",
      "        \"event_no\": 8,\n",
      "        \"type\": \"analyst_opinion\",\n",
      "        \"arguments\": {\n",
      "            \"analyst\": \"JPMorgan auto analyst Ryan Brinkman\",\n",
      "            \"opinion\": \"The move higher in Tesla shares bore no relation whatsoever to the company’s financial performance in the quarter just completed or to its outlook for growth in the coming year\",\n",
      "            \"time\": \"Unknown\"\n",
      "        }\n",
      "    },\n",
      "    {\n",
      "        \"event_no\": 9,\n",
      "        \"type\": \"investor_bullishness\",\n",
      "        \"arguments\": {\n",
      "            \"investor\": \"Wedbush Securities analyst Dan Ives\",\n",
      "            \"reason\": \"The bulls are laser focused on the AI and autotonomous vehicles story\",\n",
      "            \"time\": \"Unknown\"\n",
      "        }\n",
      "    },\n",
      "    {\n",
      "        \"event_no\": 10,\n",
      "        \"type\": \"ceo_prediction\",\n",
      "        \"arguments\": {\n",
      "            \"ceo\": \"Elon Musk\",\n",
      "            \"prediction\": \"Tesla’s plans to sell humanoid robots to the public as soon as 2026 would be “a game changer.”\",\n",
      "            \"time\": \"Unknown\"\n",
      "        }\n",
      "    },\n",
      "    {\n",
      "        \"event_no\": 11,\n",
      "        \"type\": \"ceo_prediction\",\n",
      "        \"arguments\": {\n",
      "            \"ceo\": \"Elon Musk\",\n",
      "            \"prediction\": \"Owners of its autonomous vehicles will soon be able to rent their cars for rides – a sort of robot-driven Uber – thereby making money when the cars would otherwise be parked\",\n",
      "            \"time\": \"Unknown\"\n",
      "        }\n",
      "    },\n",
      "    {\n",
      "        \"event_no\": 12,\n",
      "        \"type\": \"ceo_prediction\",\n",
      "        \"arguments\": {\n",
      "            \"ceo\": \"Elon Musk\",\n",
      "            \"prediction\": \"Tesla’s robotaxi service would be available by 2020\",\n",
      "            \"time\": \"Unknown\"\n",
      "        }\n",
      "    },\n",
      "    {\n",
      "        \"event_no\": 13,\n",
      "        \"type\": \"regulatory_change\",\n",
      "        \"arguments\": {\n",
      "            \"company\": \"Tesla\",\n",
      "            \"regulatory_change\": \"The Trump administration plans to end a $7,500 tax credit for electric vehicles, including Tesla, this year\",\n",
      "            \"time\": \"Unknown\"\n",
      "        }\n",
      "    },\n",
      "    {\n",
      "        \"event_no\": 14,\n",
      "        \"type\": \"sales_decline\",\n",
      "        \"arguments\": {\n",
      "            \"company\": \"Tesla\",\n",
      "            \"decline\": \"Tesla just reported its first drop in annual sales in 2024\",\n",
      "            \"time\": \"2024\"\n",
      "        }\n",
      "    },\n",
      "    {\n",
      "        \"event_no\": 15,\n",
      "        \"type\": \"market_competition\",\n",
      "        \"arguments\": {\n",
      "            \"company\": \"Tesla\",\n",
      "            \"competitor\": \"Chinese automaker BYD\",\n",
      "            \"competition_effect\": \"Tesla is close to losing its title of the world’s largest maker of EVs to BYD\",\n",
      "            \"time\": \"Unknown\"\n",
      "        }\n",
      "    },\n",
      "    {\n",
      "        \"event_no\": 16,\n",
      "        \"type\": \"sales_decline\",\n",
      "        \"arguments\": {\n",
      "            \"company\": \"Tesla\",\n",
      "            \"location\": \"Germany\",\n",
      "            \"decline\": \"The number of vehicles Tesla sold in Germany in January fell 59% compared to a year ago\",\n",
      "            \"time\": \"January\"\n",
      "        }\n",
      "    },\n",
      "    {\n",
      "        \"event_no\": 17,\n",
      "        \"type\": \"stock_movement\",\n",
      "        \"arguments\": {\n",
      "            \"company\": \"Tesla\",\n",
      "            \"movement\": \"Shares of Tesla fell 4% in trading Thursday after the German sales drop was disclosed\",\n",
      "            \"time\": \"Thursday\"\n",
      "        }\n",
      "    },\n",
      "    {\n",
      "        \"event_no\": 18,\n",
      "        \"type\": \"stock_movement\",\n",
      "        \"arguments\": {\n",
      "            \"company\": \"Tesla\",\n",
      "            \"movement\": \"Shares are still up 50% since the November 5 US election\",\n",
      "            \"time\": \"Since November 5\"\n",
      "        }\n",
      "    }\n",
      "]\n"
     ]
    }
   ],
   "source": [
    "response = openai.chat.completions.create(\n",
    "    model=MODEL_NAME,\n",
    "    messages=MESSAGES,\n",
    "    temperature=TEMPERATURE\n",
    ")\n",
    "\n",
    "print(response.choices[0].message.content)"
   ]
  },
  {
   "cell_type": "code",
   "execution_count": 114,
   "metadata": {},
   "outputs": [],
   "source": [
    "import json\n",
    "json_string = response.choices[0].message.content\n",
    "data = json.loads(json_string) "
   ]
  },
  {
   "cell_type": "code",
   "execution_count": 116,
   "metadata": {},
   "outputs": [
    {
     "data": {
      "text/plain": [
       "{'event_no': 1,\n",
       " 'type': 'business_challenge',\n",
       " 'arguments': {'company': 'Tesla',\n",
       "  'challenge': 'Sales are down',\n",
       "  'time': 'Unknown'}}"
      ]
     },
     "execution_count": 116,
     "metadata": {},
     "output_type": "execute_result"
    }
   ],
   "source": [
    "data[0]"
   ]
  },
  {
   "cell_type": "markdown",
   "metadata": {},
   "source": [
    "### Next, it is the adaptationa assessment (accriacy / comprehensiveness ?)\n",
    "\n",
    "- Need to find the evaluation methods to calculate the fitness score\n",
    "  - Comprehensiveness (higher can coverage more events) # depends on attributes\n",
    "  - Accuracy (basically can measure word frequency in original article, Cos Similarity in vector, Source Reliability)\n",
    "    - In this paper, we evaluate the salience and\n",
    "reliability of the thesis meta-role in terms of\n",
    "frequency of occurrence and importance,\n",
    "respectively, and design the fitness function.\n",
    "The salience and reliability of the thesis metarole determine the accuracy and\n",
    "comprehensiveness of the generated summary.\n",
    "    - The fitness function Q is defined as the\n",
    "weighting of the TFIDF score and TextRank\n",
    "score of the argumentative meta-role in the\n",
    "event pattern. (paper page7)\n",
    "- Then use the higher score event pattern to generate the summary (Crossover)\n",
    "\n",
    "### Why not directly generate by LLM\n",
    "\n",
    "- Challenges such as accuracy and coverage.\n",
    "- Too much contents from a large number of event representations.\n",
    "  - Since a piece of news text often has a large\n",
    "amount of data, direct generation of event\n",
    "patterns may lead to the introduction of noise\n",
    "and phantom data due to too many\n",
    "argumentative roles and may cause important\n",
    "argumentative elements to be missing, so we\n",
    "extract different patterns from the different\n",
    "event contents contained in it and use a genetic\n",
    "algorithm to evolve the extracted event patterns\n",
    "and evaluate the final patterns by the fitness\n",
    "function, and the pattern with the highest score\n",
    "The highest scoring patterns are input to LLM\n",
    "to generate news summaries.\n",
    "\n",
    "### Pros for this model\n",
    "\n",
    "- Can explain how LLM to generate"
   ]
  },
  {
   "cell_type": "markdown",
   "metadata": {},
   "source": [
    "#### Formula:\n",
    "\n",
    "![Remote Image](../image/formula.jpg)"
   ]
  },
  {
   "cell_type": "code",
   "execution_count": 120,
   "metadata": {},
   "outputs": [],
   "source": [
    "!pip install numpy networkx scikit-learn nltk --quiet"
   ]
  },
  {
   "cell_type": "code",
   "execution_count": 126,
   "metadata": {},
   "outputs": [],
   "source": [
    "!pip install transformers --quiet"
   ]
  },
  {
   "cell_type": "code",
   "execution_count": 123,
   "metadata": {},
   "outputs": [
    {
     "name": "stderr",
     "output_type": "stream",
     "text": [
      "[nltk_data] Downloading package punkt to\n",
      "[nltk_data]     /Users/chutszkan/miniforge3/envs/news-\n",
      "[nltk_data]     summarizer/nltk_data...\n",
      "[nltk_data]   Unzipping tokenizers/punkt.zip.\n"
     ]
    },
    {
     "data": {
      "text/plain": [
       "True"
      ]
     },
     "execution_count": 123,
     "metadata": {},
     "output_type": "execute_result"
    }
   ],
   "source": [
    "import nltk\n",
    "nltk.download('punkt', download_dir='/Users/chutszkan/miniforge3/envs/news-summarizer/nltk_data')"
   ]
  },
  {
   "cell_type": "code",
   "execution_count": 127,
   "metadata": {},
   "outputs": [
    {
     "name": "stderr",
     "output_type": "stream",
     "text": [
      "None of PyTorch, TensorFlow >= 2.0, or Flax have been found. Models won't be available and only tokenizers, configuration and file/data utilities can be used.\n"
     ]
    },
    {
     "name": "stdout",
     "output_type": "stream",
     "text": [
      "Sentence: Sales are down\n",
      "TF-IDF Score: 0.1557, TextRank Score: 0.5000, Fitness Score: 0.3279\n",
      "\n",
      "Sentence: \n",
      "Competitors are eating into its market share, especially internationally\n",
      "TF-IDF Score: 0.2715, TextRank Score: 0.5000, Fitness Score: 0.3858\n",
      "\n"
     ]
    }
   ],
   "source": [
    "import numpy as np\n",
    "import networkx as nx\n",
    "from sklearn.feature_extraction.text import TfidfVectorizer\n",
    "from transformers import AutoTokenizer\n",
    "\n",
    "# Load the transformer-based tokenizer\n",
    "tokenizer = AutoTokenizer.from_pretrained(\"bert-base-uncased\")\n",
    "\n",
    "# Given event\n",
    "event = {\n",
    "    \"event_no\": 1,\n",
    "    \"type\": \"business_challenge\",\n",
    "    \"arguments\": {\n",
    "        \"company\": \"Tesla\",\n",
    "        \"challenge\": \"Sales are down\",\n",
    "        \"time\": \"Unknown\"\n",
    "    }\n",
    "}\n",
    "\n",
    "# Given content\n",
    "content = \"\"\"These should be tough days for Tesla. Sales are down. It’s making less money on every car it does manage to sell. \n",
    "Competitors are eating into its market share, especially internationally. The end of various federal EV policies could cost the company billions.\n",
    "And then there’s the CEO. Elon Musk made the company what it is, turning it from a humble startup into a financial juggernaut. \n",
    "But now there’s near-constant controversy swirling around him as he upends the US government, inserts himself into international politics, \n",
    "plays video games and posts on his social media site, X, drawing his attention away from Tesla in what he himself describes as a “pivotal year” for the company.\n",
    "\"\"\"\n",
    "\n",
    "# Tokenization: Splitting content into sentences using periods as a basic approach\n",
    "def bert_sentence_tokenizer(text):\n",
    "    tokens = tokenizer.tokenize(text)\n",
    "    return text.split('. ')  # A simple approach; BERT tokenizes but does not split sentences.\n",
    "\n",
    "sentences = bert_sentence_tokenizer(content)\n",
    "\n",
    "# Extract sentences related to the event\n",
    "keywords = [\"sales\", \"down\", \"decline\", \"market share\"]\n",
    "event_sentences = [s for s in sentences if any(kw in s.lower() for kw in keywords)]\n",
    "\n",
    "# Compute TF-IDF Scores\n",
    "vectorizer = TfidfVectorizer()\n",
    "tfidf_matrix = vectorizer.fit_transform(event_sentences)\n",
    "tfidf_scores = np.mean(tfidf_matrix.toarray(), axis=1)\n",
    "\n",
    "# Compute TextRank Scores\n",
    "graph = nx.Graph()\n",
    "for i, sentence in enumerate(event_sentences):\n",
    "    for j, other_sentence in enumerate(event_sentences):\n",
    "        if i != j:\n",
    "            graph.add_edge(i, j, weight=np.dot(tfidf_matrix.toarray()[i], tfidf_matrix.toarray()[j]))\n",
    "\n",
    "pagerank_scores = nx.pagerank(graph)\n",
    "textrank_scores = np.array([pagerank_scores[i] for i in range(len(event_sentences))])\n",
    "\n",
    "# Compute the final fitness function\n",
    "alpha, beta = 0.5, 0.5  # Hyperparameters\n",
    "fitness_scores = alpha * tfidf_scores + beta * textrank_scores\n",
    "\n",
    "# Print results\n",
    "for i, sentence in enumerate(event_sentences):\n",
    "    print(f\"Sentence: {sentence}\")\n",
    "    print(f\"TF-IDF Score: {tfidf_scores[i]:.4f}, TextRank Score: {textrank_scores[i]:.4f}, Fitness Score: {fitness_scores[i]:.4f}\\n\")\n"
   ]
  },
  {
   "cell_type": "markdown",
   "metadata": {},
   "source": [
    "#### We need one more step because our event pattern from more than 1 source, so we may need to classify the event and use the specific algo to sort it"
   ]
  }
 ],
 "metadata": {
  "kernelspec": {
   "display_name": "news-summarizer",
   "language": "python",
   "name": "python3"
  },
  "language_info": {
   "codemirror_mode": {
    "name": "ipython",
    "version": 3
   },
   "file_extension": ".py",
   "mimetype": "text/x-python",
   "name": "python",
   "nbconvert_exporter": "python",
   "pygments_lexer": "ipython3",
   "version": "3.10.16"
  }
 },
 "nbformat": 4,
 "nbformat_minor": 2
}
